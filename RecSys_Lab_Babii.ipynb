{
 "cells": [
  {
   "cell_type": "markdown",
   "metadata": {
    "id": "pzjJmipNdE5C"
   },
   "source": [
    "# Майнор \"Интеллектуальный анализ данных\""
   ]
  },
  {
   "cell_type": "markdown",
   "metadata": {
    "id": "p5CAd5PydE5F"
   },
   "source": [
    "# Курс \"Прикладные задачи анализа данных\""
   ]
  },
  {
   "cell_type": "markdown",
   "metadata": {
    "id": "_jOeICYddE5H"
   },
   "source": [
    "## Лабораторная работа №2. RecSys"
   ]
  },
  {
   "cell_type": "markdown",
   "metadata": {
    "id": "3y3wRRLjdE5M"
   },
   "source": [
    "В рамках данной лабораторной работы вам предлагается решить задачу рекомендательной системы на основе следующих данных:"
   ]
  },
  {
   "cell_type": "markdown",
   "metadata": {
    "id": "xLTO8m79dE5P"
   },
   "source": [
    "* **rating.csv** - рейтинги аниме по 10 бальной шкале\n",
    "* **anime.csv** - описание items"
   ]
  },
  {
   "cell_type": "markdown",
   "metadata": {
    "id": "CgwRYPq2dE5R"
   },
   "source": [
    "Скачать данные можно [здесь](https://drive.google.com/drive/u/1/folders/1FarHUuqQq4tQSlERB9K8uEfZAZT9tQWv)"
   ]
  },
  {
   "cell_type": "markdown",
   "metadata": {
    "id": "_8bp-ZPsdE5S"
   },
   "source": [
    "# Данные"
   ]
  },
  {
   "cell_type": "markdown",
   "metadata": {
    "id": "NxEZGweQae4M"
   },
   "source": [
    "Данные содержат информацию об предподчтениях 73,516 пользователей в 12,294 аниме. Каждый пользователь может добавить аниме и выставить рейтниг.\n",
    "\n",
    "Anime.csv\n",
    "\n",
    "* anime_id - идентификатор аниме (items)\n",
    "* name - полное название аниме\n",
    "* genre - категория/категории для аниме (разделены запятой).\n",
    "* type - тип: movie, TV, OVA, etc.\n",
    "* episodes - количество эпизодов (для экранизаций)\n",
    "* rating - средний рейтинг по аниме.\n",
    "* members - количество членов коммьюнити к аниме\n",
    "\n",
    "Rating.csv\n",
    "\n",
    "* user_id - идентификатор пользователя (users)\n",
    "* anime_id - идентификатор аниме\n",
    "* rating - рейтинг пользователя по аниме (-1 пользователь смотрел, но не оставил рейтинг)."
   ]
  },
  {
   "cell_type": "markdown",
   "metadata": {
    "id": "8u9BlNv_dE53"
   },
   "source": [
    "### ``` Если вычеслительные ресурсы не позволяют решить задачу на всех данных, то необходимо это сделать на \"сэмпле\" данных (выбрав от 5% ids' для user и item). Этот же подход справедлив и для оценки работы алгоритомв```"
   ]
  },
  {
   "cell_type": "code",
   "execution_count": 5,
   "metadata": {},
   "outputs": [],
   "source": [
    "# !apt install -y gcc build-essential"
   ]
  },
  {
   "cell_type": "code",
   "execution_count": 7,
   "metadata": {},
   "outputs": [],
   "source": [
    "!pip install -U -q pandas seaborn tqdm sklearn surprise"
   ]
  },
  {
   "cell_type": "code",
   "execution_count": 490,
   "metadata": {},
   "outputs": [],
   "source": [
    "from itertools import chain\n",
    "from collections import Counter\n",
    "\n",
    "import numpy as np\n",
    "import pandas as pd\n",
    "\n",
    "import matplotlib.pyplot as plt\n",
    "import seaborn as sns\n",
    "\n",
    "from scipy.sparse import csr_matrix\n",
    "from sklearn.model_selection import train_test_split\n",
    "\n",
    "from implicit.als import AlternatingLeastSquares\n",
    "from surprise import SVD, Dataset, Reader\n",
    "from surprise.model_selection import train_test_split\n",
    "\n",
    "from tqdm.notebook import tqdm"
   ]
  },
  {
   "cell_type": "code",
   "execution_count": 2,
   "metadata": {},
   "outputs": [],
   "source": [
    "sns.set_theme(style='whitegrid')"
   ]
  },
  {
   "cell_type": "code",
   "execution_count": 3,
   "metadata": {},
   "outputs": [],
   "source": [
    "tqdm.pandas()"
   ]
  },
  {
   "cell_type": "markdown",
   "metadata": {
    "id": "SngZt2vadE54"
   },
   "source": [
    "## Необходимо сделать:"
   ]
  },
  {
   "cell_type": "code",
   "execution_count": 4,
   "metadata": {},
   "outputs": [],
   "source": [
    "anime = pd.read_csv(\"anime.csv\")\n",
    "ratings = pd.read_csv(\"rating.csv\")"
   ]
  },
  {
   "cell_type": "code",
   "execution_count": 5,
   "metadata": {},
   "outputs": [
    {
     "data": {
      "text/html": [
       "<div>\n",
       "<style scoped>\n",
       "    .dataframe tbody tr th:only-of-type {\n",
       "        vertical-align: middle;\n",
       "    }\n",
       "\n",
       "    .dataframe tbody tr th {\n",
       "        vertical-align: top;\n",
       "    }\n",
       "\n",
       "    .dataframe thead th {\n",
       "        text-align: right;\n",
       "    }\n",
       "</style>\n",
       "<table border=\"1\" class=\"dataframe\">\n",
       "  <thead>\n",
       "    <tr style=\"text-align: right;\">\n",
       "      <th></th>\n",
       "      <th>anime_id</th>\n",
       "      <th>name</th>\n",
       "      <th>genre</th>\n",
       "      <th>type</th>\n",
       "      <th>episodes</th>\n",
       "      <th>rating</th>\n",
       "      <th>members</th>\n",
       "    </tr>\n",
       "  </thead>\n",
       "  <tbody>\n",
       "    <tr>\n",
       "      <th>0</th>\n",
       "      <td>32281</td>\n",
       "      <td>Kimi no Na wa.</td>\n",
       "      <td>Drama, Romance, School, Supernatural</td>\n",
       "      <td>Movie</td>\n",
       "      <td>1</td>\n",
       "      <td>9.37</td>\n",
       "      <td>200630</td>\n",
       "    </tr>\n",
       "    <tr>\n",
       "      <th>1</th>\n",
       "      <td>5114</td>\n",
       "      <td>Fullmetal Alchemist: Brotherhood</td>\n",
       "      <td>Action, Adventure, Drama, Fantasy, Magic, Mili...</td>\n",
       "      <td>TV</td>\n",
       "      <td>64</td>\n",
       "      <td>9.26</td>\n",
       "      <td>793665</td>\n",
       "    </tr>\n",
       "    <tr>\n",
       "      <th>2</th>\n",
       "      <td>28977</td>\n",
       "      <td>Gintama°</td>\n",
       "      <td>Action, Comedy, Historical, Parody, Samurai, S...</td>\n",
       "      <td>TV</td>\n",
       "      <td>51</td>\n",
       "      <td>9.25</td>\n",
       "      <td>114262</td>\n",
       "    </tr>\n",
       "    <tr>\n",
       "      <th>3</th>\n",
       "      <td>9253</td>\n",
       "      <td>Steins;Gate</td>\n",
       "      <td>Sci-Fi, Thriller</td>\n",
       "      <td>TV</td>\n",
       "      <td>24</td>\n",
       "      <td>9.17</td>\n",
       "      <td>673572</td>\n",
       "    </tr>\n",
       "    <tr>\n",
       "      <th>4</th>\n",
       "      <td>9969</td>\n",
       "      <td>Gintama&amp;#039;</td>\n",
       "      <td>Action, Comedy, Historical, Parody, Samurai, S...</td>\n",
       "      <td>TV</td>\n",
       "      <td>51</td>\n",
       "      <td>9.16</td>\n",
       "      <td>151266</td>\n",
       "    </tr>\n",
       "  </tbody>\n",
       "</table>\n",
       "</div>"
      ],
      "text/plain": [
       "   anime_id                              name  \\\n",
       "0     32281                    Kimi no Na wa.   \n",
       "1      5114  Fullmetal Alchemist: Brotherhood   \n",
       "2     28977                          Gintama°   \n",
       "3      9253                       Steins;Gate   \n",
       "4      9969                     Gintama&#039;   \n",
       "\n",
       "                                               genre   type episodes  rating  \\\n",
       "0               Drama, Romance, School, Supernatural  Movie        1    9.37   \n",
       "1  Action, Adventure, Drama, Fantasy, Magic, Mili...     TV       64    9.26   \n",
       "2  Action, Comedy, Historical, Parody, Samurai, S...     TV       51    9.25   \n",
       "3                                   Sci-Fi, Thriller     TV       24    9.17   \n",
       "4  Action, Comedy, Historical, Parody, Samurai, S...     TV       51    9.16   \n",
       "\n",
       "   members  \n",
       "0   200630  \n",
       "1   793665  \n",
       "2   114262  \n",
       "3   673572  \n",
       "4   151266  "
      ]
     },
     "execution_count": 5,
     "metadata": {},
     "output_type": "execute_result"
    }
   ],
   "source": [
    "anime.head()"
   ]
  },
  {
   "cell_type": "code",
   "execution_count": 6,
   "metadata": {},
   "outputs": [
    {
     "data": {
      "text/html": [
       "<div>\n",
       "<style scoped>\n",
       "    .dataframe tbody tr th:only-of-type {\n",
       "        vertical-align: middle;\n",
       "    }\n",
       "\n",
       "    .dataframe tbody tr th {\n",
       "        vertical-align: top;\n",
       "    }\n",
       "\n",
       "    .dataframe thead th {\n",
       "        text-align: right;\n",
       "    }\n",
       "</style>\n",
       "<table border=\"1\" class=\"dataframe\">\n",
       "  <thead>\n",
       "    <tr style=\"text-align: right;\">\n",
       "      <th></th>\n",
       "      <th>user_id</th>\n",
       "      <th>anime_id</th>\n",
       "      <th>rating</th>\n",
       "    </tr>\n",
       "  </thead>\n",
       "  <tbody>\n",
       "    <tr>\n",
       "      <th>0</th>\n",
       "      <td>1</td>\n",
       "      <td>20</td>\n",
       "      <td>-1</td>\n",
       "    </tr>\n",
       "    <tr>\n",
       "      <th>1</th>\n",
       "      <td>1</td>\n",
       "      <td>24</td>\n",
       "      <td>-1</td>\n",
       "    </tr>\n",
       "    <tr>\n",
       "      <th>2</th>\n",
       "      <td>1</td>\n",
       "      <td>79</td>\n",
       "      <td>-1</td>\n",
       "    </tr>\n",
       "    <tr>\n",
       "      <th>3</th>\n",
       "      <td>1</td>\n",
       "      <td>226</td>\n",
       "      <td>-1</td>\n",
       "    </tr>\n",
       "    <tr>\n",
       "      <th>4</th>\n",
       "      <td>1</td>\n",
       "      <td>241</td>\n",
       "      <td>-1</td>\n",
       "    </tr>\n",
       "  </tbody>\n",
       "</table>\n",
       "</div>"
      ],
      "text/plain": [
       "   user_id  anime_id  rating\n",
       "0        1        20      -1\n",
       "1        1        24      -1\n",
       "2        1        79      -1\n",
       "3        1       226      -1\n",
       "4        1       241      -1"
      ]
     },
     "execution_count": 6,
     "metadata": {},
     "output_type": "execute_result"
    }
   ],
   "source": [
    "ratings.head()"
   ]
  },
  {
   "cell_type": "code",
   "execution_count": 7,
   "metadata": {},
   "outputs": [
    {
     "data": {
      "text/plain": [
       " 8     1646019\n",
       "-1     1476496\n",
       " 7     1375287\n",
       " 9     1254096\n",
       " 10     955715\n",
       " 6      637775\n",
       " 5      282806\n",
       " 4      104291\n",
       " 3       41453\n",
       " 2       23150\n",
       " 1       16649\n",
       "Name: rating, dtype: int64"
      ]
     },
     "execution_count": 7,
     "metadata": {},
     "output_type": "execute_result"
    }
   ],
   "source": [
    "# здесь мы видим множество -1\n",
    "# но для дальнейших экспериментов эти данные достаточно бесполезны\n",
    "\n",
    "# человек мог посмотреть аниме, но оставить его без оценки\n",
    "# но это аниме ему могло вообще не понравиться, мы этого не узнаем\n",
    "\n",
    "# и даже если бы подумали и нашли способ использовать знание об его просмотре\n",
    "# и рекомендовать его другим, то мы столкнулись бы с проблемой со второго блока\n",
    "# то есть мы могли бы рекомендовать то, что кому-то не понравилось\n",
    "\n",
    "# да и заполнить мы можем только примерно\n",
    "# ну а данных у нас в целом достаточно много\n",
    "\n",
    "# если говорить о CB подходах, то там нам эта оценка и не нужна\n",
    "# поэтому с огромным удовольствием дропнем\n",
    "\n",
    "ratings[\"rating\"].value_counts()"
   ]
  },
  {
   "cell_type": "code",
   "execution_count": 8,
   "metadata": {},
   "outputs": [],
   "source": [
    "ratings = ratings[ratings.rating != -1].reset_index(drop=True)"
   ]
  },
  {
   "cell_type": "code",
   "execution_count": 9,
   "metadata": {},
   "outputs": [
    {
     "data": {
      "text/html": [
       "<div>\n",
       "<style scoped>\n",
       "    .dataframe tbody tr th:only-of-type {\n",
       "        vertical-align: middle;\n",
       "    }\n",
       "\n",
       "    .dataframe tbody tr th {\n",
       "        vertical-align: top;\n",
       "    }\n",
       "\n",
       "    .dataframe thead th {\n",
       "        text-align: right;\n",
       "    }\n",
       "</style>\n",
       "<table border=\"1\" class=\"dataframe\">\n",
       "  <thead>\n",
       "    <tr style=\"text-align: right;\">\n",
       "      <th></th>\n",
       "      <th>user_id</th>\n",
       "      <th>anime_id</th>\n",
       "      <th>rating_user</th>\n",
       "      <th>name</th>\n",
       "      <th>genre</th>\n",
       "      <th>type</th>\n",
       "      <th>episodes</th>\n",
       "      <th>rating_item</th>\n",
       "      <th>members</th>\n",
       "    </tr>\n",
       "  </thead>\n",
       "  <tbody>\n",
       "    <tr>\n",
       "      <th>0</th>\n",
       "      <td>1</td>\n",
       "      <td>8074</td>\n",
       "      <td>10</td>\n",
       "      <td>Highschool of the Dead</td>\n",
       "      <td>Action, Ecchi, Horror, Supernatural</td>\n",
       "      <td>TV</td>\n",
       "      <td>12</td>\n",
       "      <td>7.46</td>\n",
       "      <td>535892.0</td>\n",
       "    </tr>\n",
       "    <tr>\n",
       "      <th>1</th>\n",
       "      <td>1</td>\n",
       "      <td>11617</td>\n",
       "      <td>10</td>\n",
       "      <td>High School DxD</td>\n",
       "      <td>Comedy, Demons, Ecchi, Harem, Romance, School</td>\n",
       "      <td>TV</td>\n",
       "      <td>12</td>\n",
       "      <td>7.70</td>\n",
       "      <td>398660.0</td>\n",
       "    </tr>\n",
       "    <tr>\n",
       "      <th>2</th>\n",
       "      <td>1</td>\n",
       "      <td>11757</td>\n",
       "      <td>10</td>\n",
       "      <td>Sword Art Online</td>\n",
       "      <td>Action, Adventure, Fantasy, Game, Romance</td>\n",
       "      <td>TV</td>\n",
       "      <td>25</td>\n",
       "      <td>7.83</td>\n",
       "      <td>893100.0</td>\n",
       "    </tr>\n",
       "    <tr>\n",
       "      <th>3</th>\n",
       "      <td>1</td>\n",
       "      <td>15451</td>\n",
       "      <td>10</td>\n",
       "      <td>High School DxD New</td>\n",
       "      <td>Action, Comedy, Demons, Ecchi, Harem, Romance,...</td>\n",
       "      <td>TV</td>\n",
       "      <td>12</td>\n",
       "      <td>7.87</td>\n",
       "      <td>266657.0</td>\n",
       "    </tr>\n",
       "    <tr>\n",
       "      <th>4</th>\n",
       "      <td>2</td>\n",
       "      <td>11771</td>\n",
       "      <td>10</td>\n",
       "      <td>Kuroko no Basket</td>\n",
       "      <td>Comedy, School, Shounen, Sports</td>\n",
       "      <td>TV</td>\n",
       "      <td>25</td>\n",
       "      <td>8.46</td>\n",
       "      <td>338315.0</td>\n",
       "    </tr>\n",
       "  </tbody>\n",
       "</table>\n",
       "</div>"
      ],
      "text/plain": [
       "   user_id  anime_id  rating_user                    name  \\\n",
       "0        1      8074           10  Highschool of the Dead   \n",
       "1        1     11617           10         High School DxD   \n",
       "2        1     11757           10        Sword Art Online   \n",
       "3        1     15451           10     High School DxD New   \n",
       "4        2     11771           10        Kuroko no Basket   \n",
       "\n",
       "                                               genre type episodes  \\\n",
       "0                Action, Ecchi, Horror, Supernatural   TV       12   \n",
       "1      Comedy, Demons, Ecchi, Harem, Romance, School   TV       12   \n",
       "2          Action, Adventure, Fantasy, Game, Romance   TV       25   \n",
       "3  Action, Comedy, Demons, Ecchi, Harem, Romance,...   TV       12   \n",
       "4                    Comedy, School, Shounen, Sports   TV       25   \n",
       "\n",
       "   rating_item   members  \n",
       "0         7.46  535892.0  \n",
       "1         7.70  398660.0  \n",
       "2         7.83  893100.0  \n",
       "3         7.87  266657.0  \n",
       "4         8.46  338315.0  "
      ]
     },
     "execution_count": 9,
     "metadata": {},
     "output_type": "execute_result"
    }
   ],
   "source": [
    "data = ratings.merge(anime, how=\"left\", on=\"anime_id\", suffixes=[\"_user\", \"_item\"]) \n",
    "data.head()"
   ]
  },
  {
   "cell_type": "markdown",
   "metadata": {
    "id": "c_Lf3uQJdE55"
   },
   "source": [
    "### Задание №1 : Exploratory analysis (2 балла):\n",
    "\n",
    "* Распределение числа пользователей по количеству взаимодействий\n",
    "* Разпределение числа \"айтемов\" по количеству взаимодействий\n",
    "* Распределение числа рейтингов, средних рейтингов по пользователям, по \"айтемам\"\n",
    "* и т.д. (бонус)"
   ]
  },
  {
   "cell_type": "markdown",
   "metadata": {},
   "source": [
    "##### Оценка распределения рейтингов (и некоторые другие действия)"
   ]
  },
  {
   "cell_type": "code",
   "execution_count": 10,
   "metadata": {},
   "outputs": [],
   "source": [
    "anime[\"genre\"] = anime[\"genre\"].str.split(\", \")"
   ]
  },
  {
   "cell_type": "code",
   "execution_count": 201,
   "metadata": {},
   "outputs": [
    {
     "data": {
      "text/plain": [
       "[Text(0.5, 0, '# Rating'), Text(0, 0.5, '# Samples')]"
      ]
     },
     "execution_count": 201,
     "metadata": {},
     "output_type": "execute_result"
    },
    {
     "data": {
      "image/png": "[encoded data removed]",
      "text/plain": [
       "<Figure size 432x288 with 1 Axes>"
      ]
     },
     "metadata": {},
     "output_type": "display_data"
    }
   ],
   "source": [
    "# люди в основном ставят оценки 7-9\n",
    "\n",
    "ax = sns.histplot(data[\"rating_user\"], stat=\"count\", bins=10)\n",
    "ax.set_xticks(range(1, 11))\n",
    "ax.set(xlabel=\"# Rating\", ylabel=\"# Samples\")"
   ]
  },
  {
   "cell_type": "code",
   "execution_count": 202,
   "metadata": {},
   "outputs": [
    {
     "data": {
      "text/plain": [
       "[Text(0.5, 0, 'Mean Rating'), Text(0, 0.5, '# Users')]"
      ]
     },
     "execution_count": 202,
     "metadata": {},
     "output_type": "execute_result"
    },
    {
     "data": {
      "image/png": "[encoded data removed]",
      "text/plain": [
       "<Figure size 432x288 with 1 Axes>"
      ]
     },
     "metadata": {},
     "output_type": "display_data"
    }
   ],
   "source": [
    "# средняя оценка по пользователям – 8-9\n",
    "\n",
    "ax = sns.histplot(data.groupby(\"user_id\")[\"rating_user\"].agg(\"mean\"), bins=10)\n",
    "ax.set(xlabel=\"Mean Rating\", ylabel=\"# Users\")"
   ]
  },
  {
   "cell_type": "code",
   "execution_count": 203,
   "metadata": {},
   "outputs": [
    {
     "data": {
      "text/plain": [
       "[Text(0.5, 0, '# Rating'), Text(0, 0.5, '# Samples')]"
      ]
     },
     "execution_count": 203,
     "metadata": {},
     "output_type": "execute_result"
    },
    {
     "data": {
      "image/png": "[encoded data removed]",
      "text/plain": [
       "<Figure size 432x288 with 1 Axes>"
      ]
     },
     "metadata": {},
     "output_type": "display_data"
    }
   ],
   "source": [
    "# оценки по айтемам примерно такие же\n",
    "\n",
    "ax = sns.histplot(data[\"rating_item\"], stat=\"count\", bins=10)\n",
    "ax.set(xlabel=\"# Rating\", ylabel=\"# Samples\")"
   ]
  },
  {
   "cell_type": "code",
   "execution_count": 204,
   "metadata": {},
   "outputs": [
    {
     "data": {
      "text/plain": [
       "[Text(0.5, 0, 'Mean Rating'), Text(0, 0.5, '# Anime')]"
      ]
     },
     "execution_count": 204,
     "metadata": {},
     "output_type": "execute_result"
    },
    {
     "data": {
      "image/png": "[encoded data removed]",
      "text/plain": [
       "<Figure size 432x288 with 1 Axes>"
      ]
     },
     "metadata": {},
     "output_type": "display_data"
    }
   ],
   "source": [
    "# средние оценки по айтемам чуть хуже, в среднем 6-8\n",
    "\n",
    "ax = sns.histplot(data.groupby(\"anime_id\")[\"rating_item\"].agg(\"mean\"), bins=10)\n",
    "ax.set(xlabel=\"Mean Rating\", ylabel=\"# Anime\")"
   ]
  },
  {
   "cell_type": "markdown",
   "metadata": {},
   "source": [
    "##### Оценка зависимости популярности аниме от его оценки"
   ]
  },
  {
   "cell_type": "code",
   "execution_count": 205,
   "metadata": {},
   "outputs": [
    {
     "data": {
      "text/plain": [
       "[Text(0.5, 0, '# Members'), Text(0, 0.5, 'Rating')]"
      ]
     },
     "execution_count": 205,
     "metadata": {},
     "output_type": "execute_result"
    },
    {
     "data": {
      "image/png": "[encoded data removed]",
      "text/plain": [
       "<Figure size 432x288 with 1 Axes>"
      ]
     },
     "metadata": {},
     "output_type": "display_data"
    }
   ],
   "source": [
    "# видно, что прекрасные оценки часто бывают даже у ноунейм аниме\n",
    "# но виден тренд увеличения оценки с увеличением коммьюнити\n",
    "\n",
    "ax = sns.scatterplot(data=anime, x=\"members\", y=\"rating\")\n",
    "ax.set_yticks(range(1, 11))\n",
    "ax.set(xlabel=\"# Members\", ylabel=\"Rating\")"
   ]
  },
  {
   "cell_type": "markdown",
   "metadata": {},
   "source": [
    "##### Оценка распределения рейтингов по типу (вещания) аниме"
   ]
  },
  {
   "cell_type": "code",
   "execution_count": 206,
   "metadata": {},
   "outputs": [
    {
     "data": {
      "text/plain": [
       "[Text(0.5, 0, 'Type'), Text(0, 0.5, 'Rating')]"
      ]
     },
     "execution_count": 206,
     "metadata": {},
     "output_type": "execute_result"
    },
    {
     "data": {
      "image/png": "[encoded data removed]",
      "text/plain": [
       "<Figure size 432x288 with 1 Axes>"
      ]
     },
     "metadata": {},
     "output_type": "display_data"
    }
   ],
   "source": [
    "# видим, что самые высокие оценки на аниме по TV\n",
    "# а самый большой разброс у Movie и ONA\n",
    "\n",
    "ax = sns.boxplot(data=anime, x=\"type\", y=\"rating\")\n",
    "ax.set(xlabel=\"Type\", ylabel=\"Rating\")"
   ]
  },
  {
   "cell_type": "markdown",
   "metadata": {},
   "source": [
    "##### Оценка распределения рейтингов по жанру аниме"
   ]
  },
  {
   "cell_type": "code",
   "execution_count": 11,
   "metadata": {},
   "outputs": [],
   "source": [
    "genre_ratings = anime.explode(\"genre\")"
   ]
  },
  {
   "cell_type": "code",
   "execution_count": 208,
   "metadata": {},
   "outputs": [
    {
     "data": {
      "text/plain": [
       "[Text(0.5, 0, 'Rating'), Text(0, 0.5, 'Genre')]"
      ]
     },
     "execution_count": 208,
     "metadata": {},
     "output_type": "execute_result"
    },
    {
     "data": {
      "image/png": "[encoded data removed]",
      "text/plain": [
       "<Figure size 1080x864 with 1 Axes>"
      ]
     },
     "metadata": {},
     "output_type": "display_data"
    }
   ],
   "source": [
    "# видим, что людям очень нравится аниме в жанре Триллер\n",
    "# но они __осуждают__ музыкальные аниме\n",
    "\n",
    "# но вишенка на торте это жанр деменция\n",
    "# видимо, его зрители по привычке включают одни и те же серии день за днём\n",
    "# смотрят их, жалуются, что серии ничем друг от друга не отличаются\n",
    "# ставят плохие оценки... но круг замыкается и всё начинается сначала\n",
    "# деменция штука такая, да\n",
    "\n",
    "plt.figure(figsize=(15, 12))\n",
    "ax = sns.boxplot(data=genre_ratings, y=\"genre\", x=\"rating\", orient=\"h\")\n",
    "ax.set(xlabel=\"Rating\", ylabel=\"Genre\")"
   ]
  },
  {
   "cell_type": "markdown",
   "metadata": {},
   "source": [
    "##### Распределение числа пользователей по количеству взаимодействий"
   ]
  },
  {
   "cell_type": "code",
   "execution_count": 209,
   "metadata": {},
   "outputs": [
    {
     "data": {
      "text/plain": [
       "[Text(0.5, 0, '# Users'), Text(0, 0.5, '# Interactions')]"
      ]
     },
     "execution_count": 209,
     "metadata": {},
     "output_type": "execute_result"
    },
    {
     "data": {
      "image/png": "[encoded data removed]",
      "text/plain": [
       "<Figure size 432x288 with 1 Axes>"
      ]
     },
     "metadata": {},
     "output_type": "display_data"
    }
   ],
   "source": [
    "# мы видим огромный хвост, что говорит нам об очень большос количество пользователей с очень низким количеством взаимодействий\n",
    "\n",
    "ax = sns.histplot(data[\"user_id\"].value_counts())\n",
    "ax.set(xlabel=\"# Users\", ylabel=\"# Interactions\")"
   ]
  },
  {
   "cell_type": "code",
   "execution_count": 210,
   "metadata": {},
   "outputs": [
    {
     "data": {
      "text/plain": [
       "[Text(0.5, 0, '# Users'), Text(0, 0.5, '# Interactions')]"
      ]
     },
     "execution_count": 210,
     "metadata": {},
     "output_type": "execute_result"
    },
    {
     "data": {
      "image/png": "[encoded data removed]",
      "text/plain": [
       "<Figure size 432x288 with 1 Axes>"
      ]
     },
     "metadata": {},
     "output_type": "display_data"
    }
   ],
   "source": [
    "# из-за огромного хвоста не очень хорошо видно центральную часть\n",
    "# здесь видим, что распределение довольно логичное\n",
    "# больше людей – меньше взаимодействий\n",
    "\n",
    "ax = sns.histplot(data[\"user_id\"].value_counts())\n",
    "\n",
    "ax.set_ylim(0, 4000)\n",
    "ax.set_xlim(0, 500)\n",
    "ax.set(xlabel=\"# Users\", ylabel=\"# Interactions\")"
   ]
  },
  {
   "cell_type": "markdown",
   "metadata": {},
   "source": [
    "##### Разпределение числа \"айтемов\" по количеству взаимодействий"
   ]
  },
  {
   "cell_type": "code",
   "execution_count": 211,
   "metadata": {},
   "outputs": [
    {
     "data": {
      "text/plain": [
       "[Text(0.5, 0, '# Items'), Text(0, 0.5, '# Interactions')]"
      ]
     },
     "execution_count": 211,
     "metadata": {},
     "output_type": "execute_result"
    },
    {
     "data": {
      "image/png": "[encoded data removed]",
      "text/plain": [
       "<Figure size 432x288 with 1 Axes>"
      ]
     },
     "metadata": {},
     "output_type": "display_data"
    }
   ],
   "source": [
    "# аналогично предыдущему пункту\n",
    "\n",
    "ax = sns.histplot(data[\"anime_id\"].value_counts())\n",
    "ax.set(xlabel=\"# Items\", ylabel=\"# Interactions\")"
   ]
  },
  {
   "cell_type": "code",
   "execution_count": 212,
   "metadata": {},
   "outputs": [
    {
     "data": {
      "text/plain": [
       "[Text(0.5, 0, '# Items'), Text(0, 0.5, '# Interactions')]"
      ]
     },
     "execution_count": 212,
     "metadata": {},
     "output_type": "execute_result"
    },
    {
     "data": {
      "image/png": "[encoded data removed]",
      "text/plain": [
       "<Figure size 432x288 with 1 Axes>"
      ]
     },
     "metadata": {},
     "output_type": "display_data"
    }
   ],
   "source": [
    "# аналогично\n",
    "\n",
    "ax = sns.histplot(data[\"anime_id\"].value_counts())\n",
    "\n",
    "ax.set_ylim(0, 800)\n",
    "ax.set_xlim(0, 2500)\n",
    "ax.set(xlabel=\"# Items\", ylabel=\"# Interactions\")"
   ]
  },
  {
   "cell_type": "code",
   "execution_count": 296,
   "metadata": {},
   "outputs": [
    {
     "data": {
      "text/html": [
       "<div>\n",
       "<style scoped>\n",
       "    .dataframe tbody tr th:only-of-type {\n",
       "        vertical-align: middle;\n",
       "    }\n",
       "\n",
       "    .dataframe tbody tr th {\n",
       "        vertical-align: top;\n",
       "    }\n",
       "\n",
       "    .dataframe thead th {\n",
       "        text-align: right;\n",
       "    }\n",
       "</style>\n",
       "<table border=\"1\" class=\"dataframe\">\n",
       "  <thead>\n",
       "    <tr style=\"text-align: right;\">\n",
       "      <th></th>\n",
       "      <th>anime_id</th>\n",
       "      <th>name</th>\n",
       "      <th>genre</th>\n",
       "      <th>type</th>\n",
       "      <th>episodes</th>\n",
       "      <th>rating</th>\n",
       "      <th>members</th>\n",
       "    </tr>\n",
       "  </thead>\n",
       "  <tbody>\n",
       "    <tr>\n",
       "      <th>40</th>\n",
       "      <td>1535</td>\n",
       "      <td>Death Note</td>\n",
       "      <td>Mystery, Police, Psychological, Supernatural, ...</td>\n",
       "      <td>TV</td>\n",
       "      <td>37</td>\n",
       "      <td>8.71</td>\n",
       "      <td>1013917</td>\n",
       "    </tr>\n",
       "    <tr>\n",
       "      <th>86</th>\n",
       "      <td>16498</td>\n",
       "      <td>Shingeki no Kyojin</td>\n",
       "      <td>Action, Drama, Fantasy, Shounen, Super Power</td>\n",
       "      <td>TV</td>\n",
       "      <td>25</td>\n",
       "      <td>8.54</td>\n",
       "      <td>896229</td>\n",
       "    </tr>\n",
       "    <tr>\n",
       "      <th>804</th>\n",
       "      <td>11757</td>\n",
       "      <td>Sword Art Online</td>\n",
       "      <td>Action, Adventure, Fantasy, Game, Romance</td>\n",
       "      <td>TV</td>\n",
       "      <td>25</td>\n",
       "      <td>7.83</td>\n",
       "      <td>893100</td>\n",
       "    </tr>\n",
       "    <tr>\n",
       "      <th>1</th>\n",
       "      <td>5114</td>\n",
       "      <td>Fullmetal Alchemist: Brotherhood</td>\n",
       "      <td>Action, Adventure, Drama, Fantasy, Magic, Mili...</td>\n",
       "      <td>TV</td>\n",
       "      <td>64</td>\n",
       "      <td>9.26</td>\n",
       "      <td>793665</td>\n",
       "    </tr>\n",
       "    <tr>\n",
       "      <th>159</th>\n",
       "      <td>6547</td>\n",
       "      <td>Angel Beats!</td>\n",
       "      <td>Action, Comedy, Drama, School, Supernatural</td>\n",
       "      <td>TV</td>\n",
       "      <td>13</td>\n",
       "      <td>8.39</td>\n",
       "      <td>717796</td>\n",
       "    </tr>\n",
       "    <tr>\n",
       "      <th>19</th>\n",
       "      <td>1575</td>\n",
       "      <td>Code Geass: Hangyaku no Lelouch</td>\n",
       "      <td>Action, Mecha, Military, School, Sci-Fi, Super...</td>\n",
       "      <td>TV</td>\n",
       "      <td>25</td>\n",
       "      <td>8.83</td>\n",
       "      <td>715151</td>\n",
       "    </tr>\n",
       "    <tr>\n",
       "      <th>841</th>\n",
       "      <td>20</td>\n",
       "      <td>Naruto</td>\n",
       "      <td>Action, Comedy, Martial Arts, Shounen, Super P...</td>\n",
       "      <td>TV</td>\n",
       "      <td>220</td>\n",
       "      <td>7.81</td>\n",
       "      <td>683297</td>\n",
       "    </tr>\n",
       "    <tr>\n",
       "      <th>3</th>\n",
       "      <td>9253</td>\n",
       "      <td>Steins;Gate</td>\n",
       "      <td>Sci-Fi, Thriller</td>\n",
       "      <td>TV</td>\n",
       "      <td>24</td>\n",
       "      <td>9.17</td>\n",
       "      <td>673572</td>\n",
       "    </tr>\n",
       "    <tr>\n",
       "      <th>445</th>\n",
       "      <td>10620</td>\n",
       "      <td>Mirai Nikki (TV)</td>\n",
       "      <td>Action, Mystery, Psychological, Shounen, Super...</td>\n",
       "      <td>TV</td>\n",
       "      <td>26</td>\n",
       "      <td>8.07</td>\n",
       "      <td>657190</td>\n",
       "    </tr>\n",
       "    <tr>\n",
       "      <th>131</th>\n",
       "      <td>4224</td>\n",
       "      <td>Toradora!</td>\n",
       "      <td>Comedy, Romance, School, Slice of Life</td>\n",
       "      <td>TV</td>\n",
       "      <td>25</td>\n",
       "      <td>8.45</td>\n",
       "      <td>633817</td>\n",
       "    </tr>\n",
       "    <tr>\n",
       "      <th>582</th>\n",
       "      <td>269</td>\n",
       "      <td>Bleach</td>\n",
       "      <td>Action, Comedy, Shounen, Super Power, Supernat...</td>\n",
       "      <td>TV</td>\n",
       "      <td>366</td>\n",
       "      <td>7.95</td>\n",
       "      <td>624055</td>\n",
       "    </tr>\n",
       "    <tr>\n",
       "      <th>760</th>\n",
       "      <td>226</td>\n",
       "      <td>Elfen Lied</td>\n",
       "      <td>Action, Drama, Horror, Psychological, Romance,...</td>\n",
       "      <td>TV</td>\n",
       "      <td>13</td>\n",
       "      <td>7.85</td>\n",
       "      <td>623511</td>\n",
       "    </tr>\n",
       "    <tr>\n",
       "      <th>449</th>\n",
       "      <td>22319</td>\n",
       "      <td>Tokyo Ghoul</td>\n",
       "      <td>Action, Drama, Horror, Mystery, Psychological,...</td>\n",
       "      <td>TV</td>\n",
       "      <td>12</td>\n",
       "      <td>8.07</td>\n",
       "      <td>618056</td>\n",
       "    </tr>\n",
       "    <tr>\n",
       "      <th>118</th>\n",
       "      <td>19815</td>\n",
       "      <td>No Game No Life</td>\n",
       "      <td>Adventure, Comedy, Ecchi, Fantasy, Game, Super...</td>\n",
       "      <td>TV</td>\n",
       "      <td>12</td>\n",
       "      <td>8.47</td>\n",
       "      <td>602291</td>\n",
       "    </tr>\n",
       "    <tr>\n",
       "      <th>200</th>\n",
       "      <td>121</td>\n",
       "      <td>Fullmetal Alchemist</td>\n",
       "      <td>Action, Adventure, Comedy, Drama, Fantasy, Mag...</td>\n",
       "      <td>TV</td>\n",
       "      <td>51</td>\n",
       "      <td>8.33</td>\n",
       "      <td>600384</td>\n",
       "    </tr>\n",
       "    <tr>\n",
       "      <th>288</th>\n",
       "      <td>6702</td>\n",
       "      <td>Fairy Tail</td>\n",
       "      <td>Action, Adventure, Comedy, Fantasy, Magic, Sho...</td>\n",
       "      <td>TV</td>\n",
       "      <td>175</td>\n",
       "      <td>8.22</td>\n",
       "      <td>584590</td>\n",
       "    </tr>\n",
       "    <tr>\n",
       "      <th>643</th>\n",
       "      <td>9919</td>\n",
       "      <td>Ao no Exorcist</td>\n",
       "      <td>Action, Demons, Fantasy, Shounen, Supernatural</td>\n",
       "      <td>TV</td>\n",
       "      <td>25</td>\n",
       "      <td>7.92</td>\n",
       "      <td>583823</td>\n",
       "    </tr>\n",
       "    <tr>\n",
       "      <th>440</th>\n",
       "      <td>3588</td>\n",
       "      <td>Soul Eater</td>\n",
       "      <td>Action, Adventure, Comedy, Fantasy, Shounen, S...</td>\n",
       "      <td>TV</td>\n",
       "      <td>51</td>\n",
       "      <td>8.08</td>\n",
       "      <td>580184</td>\n",
       "    </tr>\n",
       "    <tr>\n",
       "      <th>13</th>\n",
       "      <td>2904</td>\n",
       "      <td>Code Geass: Hangyaku no Lelouch R2</td>\n",
       "      <td>Action, Drama, Mecha, Military, Sci-Fi, Super ...</td>\n",
       "      <td>TV</td>\n",
       "      <td>25</td>\n",
       "      <td>8.98</td>\n",
       "      <td>572888</td>\n",
       "    </tr>\n",
       "    <tr>\n",
       "      <th>223</th>\n",
       "      <td>2167</td>\n",
       "      <td>Clannad</td>\n",
       "      <td>Comedy, Drama, Romance, School, Slice of Life,...</td>\n",
       "      <td>TV</td>\n",
       "      <td>23</td>\n",
       "      <td>8.30</td>\n",
       "      <td>566690</td>\n",
       "    </tr>\n",
       "    <tr>\n",
       "      <th>29</th>\n",
       "      <td>2001</td>\n",
       "      <td>Tengen Toppa Gurren Lagann</td>\n",
       "      <td>Action, Adventure, Comedy, Mecha, Sci-Fi</td>\n",
       "      <td>TV</td>\n",
       "      <td>27</td>\n",
       "      <td>8.78</td>\n",
       "      <td>562962</td>\n",
       "    </tr>\n",
       "    <tr>\n",
       "      <th>166</th>\n",
       "      <td>6746</td>\n",
       "      <td>Durarara!!</td>\n",
       "      <td>Action, Mystery, Supernatural</td>\n",
       "      <td>TV</td>\n",
       "      <td>24</td>\n",
       "      <td>8.38</td>\n",
       "      <td>556431</td>\n",
       "    </tr>\n",
       "    <tr>\n",
       "      <th>23</th>\n",
       "      <td>30276</td>\n",
       "      <td>One Punch Man</td>\n",
       "      <td>Action, Comedy, Parody, Sci-Fi, Seinen, Super ...</td>\n",
       "      <td>TV</td>\n",
       "      <td>12</td>\n",
       "      <td>8.82</td>\n",
       "      <td>552458</td>\n",
       "    </tr>\n",
       "    <tr>\n",
       "      <th>2132</th>\n",
       "      <td>21881</td>\n",
       "      <td>Sword Art Online II</td>\n",
       "      <td>Action, Adventure, Fantasy, Game, Romance</td>\n",
       "      <td>TV</td>\n",
       "      <td>24</td>\n",
       "      <td>7.35</td>\n",
       "      <td>537892</td>\n",
       "    </tr>\n",
       "    <tr>\n",
       "      <th>1709</th>\n",
       "      <td>8074</td>\n",
       "      <td>Highschool of the Dead</td>\n",
       "      <td>Action, Ecchi, Horror, Supernatural</td>\n",
       "      <td>TV</td>\n",
       "      <td>12</td>\n",
       "      <td>7.46</td>\n",
       "      <td>535892</td>\n",
       "    </tr>\n",
       "  </tbody>\n",
       "</table>\n",
       "</div>"
      ],
      "text/plain": [
       "      anime_id                                name  \\\n",
       "40        1535                          Death Note   \n",
       "86       16498                  Shingeki no Kyojin   \n",
       "804      11757                    Sword Art Online   \n",
       "1         5114    Fullmetal Alchemist: Brotherhood   \n",
       "159       6547                        Angel Beats!   \n",
       "19        1575     Code Geass: Hangyaku no Lelouch   \n",
       "841         20                              Naruto   \n",
       "3         9253                         Steins;Gate   \n",
       "445      10620                    Mirai Nikki (TV)   \n",
       "131       4224                           Toradora!   \n",
       "582        269                              Bleach   \n",
       "760        226                          Elfen Lied   \n",
       "449      22319                         Tokyo Ghoul   \n",
       "118      19815                     No Game No Life   \n",
       "200        121                 Fullmetal Alchemist   \n",
       "288       6702                          Fairy Tail   \n",
       "643       9919                      Ao no Exorcist   \n",
       "440       3588                          Soul Eater   \n",
       "13        2904  Code Geass: Hangyaku no Lelouch R2   \n",
       "223       2167                             Clannad   \n",
       "29        2001          Tengen Toppa Gurren Lagann   \n",
       "166       6746                          Durarara!!   \n",
       "23       30276                       One Punch Man   \n",
       "2132     21881                 Sword Art Online II   \n",
       "1709      8074              Highschool of the Dead   \n",
       "\n",
       "                                                  genre type episodes  rating  \\\n",
       "40    Mystery, Police, Psychological, Supernatural, ...   TV       37    8.71   \n",
       "86         Action, Drama, Fantasy, Shounen, Super Power   TV       25    8.54   \n",
       "804           Action, Adventure, Fantasy, Game, Romance   TV       25    7.83   \n",
       "1     Action, Adventure, Drama, Fantasy, Magic, Mili...   TV       64    9.26   \n",
       "159         Action, Comedy, Drama, School, Supernatural   TV       13    8.39   \n",
       "19    Action, Mecha, Military, School, Sci-Fi, Super...   TV       25    8.83   \n",
       "841   Action, Comedy, Martial Arts, Shounen, Super P...   TV      220    7.81   \n",
       "3                                      Sci-Fi, Thriller   TV       24    9.17   \n",
       "445   Action, Mystery, Psychological, Shounen, Super...   TV       26    8.07   \n",
       "131              Comedy, Romance, School, Slice of Life   TV       25    8.45   \n",
       "582   Action, Comedy, Shounen, Super Power, Supernat...   TV      366    7.95   \n",
       "760   Action, Drama, Horror, Psychological, Romance,...   TV       13    7.85   \n",
       "449   Action, Drama, Horror, Mystery, Psychological,...   TV       12    8.07   \n",
       "118   Adventure, Comedy, Ecchi, Fantasy, Game, Super...   TV       12    8.47   \n",
       "200   Action, Adventure, Comedy, Drama, Fantasy, Mag...   TV       51    8.33   \n",
       "288   Action, Adventure, Comedy, Fantasy, Magic, Sho...   TV      175    8.22   \n",
       "643      Action, Demons, Fantasy, Shounen, Supernatural   TV       25    7.92   \n",
       "440   Action, Adventure, Comedy, Fantasy, Shounen, S...   TV       51    8.08   \n",
       "13    Action, Drama, Mecha, Military, Sci-Fi, Super ...   TV       25    8.98   \n",
       "223   Comedy, Drama, Romance, School, Slice of Life,...   TV       23    8.30   \n",
       "29             Action, Adventure, Comedy, Mecha, Sci-Fi   TV       27    8.78   \n",
       "166                       Action, Mystery, Supernatural   TV       24    8.38   \n",
       "23    Action, Comedy, Parody, Sci-Fi, Seinen, Super ...   TV       12    8.82   \n",
       "2132          Action, Adventure, Fantasy, Game, Romance   TV       24    7.35   \n",
       "1709                Action, Ecchi, Horror, Supernatural   TV       12    7.46   \n",
       "\n",
       "      members  \n",
       "40    1013917  \n",
       "86     896229  \n",
       "804    893100  \n",
       "1      793665  \n",
       "159    717796  \n",
       "19     715151  \n",
       "841    683297  \n",
       "3      673572  \n",
       "445    657190  \n",
       "131    633817  \n",
       "582    624055  \n",
       "760    623511  \n",
       "449    618056  \n",
       "118    602291  \n",
       "200    600384  \n",
       "288    584590  \n",
       "643    583823  \n",
       "440    580184  \n",
       "13     572888  \n",
       "223    566690  \n",
       "29     562962  \n",
       "166    556431  \n",
       "23     552458  \n",
       "2132   537892  \n",
       "1709   535892  "
      ]
     },
     "execution_count": 296,
     "metadata": {},
     "output_type": "execute_result"
    }
   ],
   "source": [
    "# видим самые популярные аниме\n",
    "# люди, видимо, очень любят Тетрадь Смерти\n",
    "\n",
    "anime.sort_values(by=[\"members\", \"rating\"], ascending=False)[:25]"
   ]
  },
  {
   "cell_type": "markdown",
   "metadata": {
    "id": "hJYb7OM6dE56"
   },
   "source": [
    "### Задание №2 : Оценить разреженность данных по рейтингу (1/2 балла)"
   ]
  },
  {
   "cell_type": "code",
   "execution_count": 213,
   "metadata": {},
   "outputs": [
    {
     "data": {
      "text/plain": [
       "0.9908278218350279"
      ]
     },
     "execution_count": 213,
     "metadata": {},
     "output_type": "execute_result"
    }
   ],
   "source": [
    "ui_matrix = data.groupby([\"user_id\", \"anime_id\"])[\"rating_user\"].sum().unstack()\n",
    "ui_matrix.isna().sum().sum() / ui_matrix.size"
   ]
  },
  {
   "cell_type": "markdown",
   "metadata": {
    "id": "jxVlXagNdE57"
   },
   "source": [
    "### Задание №3 : Разделить данные на тренировочные и валидационные (1/2 балла)"
   ]
  },
  {
   "cell_type": "code",
   "execution_count": 13,
   "metadata": {},
   "outputs": [],
   "source": [
    "MIN_RATINGS = 10\n",
    "TRAIN_SIZE = 0.7"
   ]
  },
  {
   "cell_type": "code",
   "execution_count": 14,
   "metadata": {},
   "outputs": [],
   "source": [
    "data = data.groupby(\"user_id\").filter(lambda x: len(x) >= MIN_RATINGS)"
   ]
  },
  {
   "cell_type": "code",
   "execution_count": 18,
   "metadata": {
    "scrolled": true
   },
   "outputs": [
    {
     "data": {
      "application/vnd.jupyter.widget-view+json": {
       "model_id": "15a24db3508449c0a1ee54f219ee7509",
       "version_major": 2,
       "version_minor": 0
      },
      "text/plain": [
       "  0%|          | 0/55118 [00:00<?, ?it/s]"
      ]
     },
     "metadata": {},
     "output_type": "display_data"
    }
   ],
   "source": [
    "# 70% айтемов каждого юзера в трейн, остальное в тест\n",
    "# в наших данных нет юзеров без просмотров (в этом плане колд-старт не актуален)\n",
    "\n",
    "train_df = []\n",
    "test_df = []\n",
    "\n",
    "for user_id in tqdm(data.user_id.unique()):\n",
    "    \n",
    "    temp = data[data.user_id == user_id]\n",
    "    train_size = round(temp.shape[0] * TRAIN_SIZE)\n",
    "    \n",
    "    train_df.append(temp[:train_size])\n",
    "    test_df.append(temp[train_size:])\n",
    "    \n",
    "train_df = pd.concat(train_df)\n",
    "test_df = pd.concat(test_df)"
   ]
  },
  {
   "cell_type": "code",
   "execution_count": 291,
   "metadata": {
    "scrolled": true
   },
   "outputs": [
    {
     "name": "stdout",
     "output_type": "stream",
     "text": [
      "# samples in train: 4393940 \n",
      "# samples in test: 1884419\n",
      "\n",
      "# unique users in train: 55118 \n",
      "# unique users in test: 55118\n",
      "\n",
      "# cold-users in test: 0\n"
     ]
    }
   ],
   "source": [
    "print(\n",
    "    \"# samples in train:\", train_df.shape[0], \n",
    "    \"\\n# samples in test:\", test_df.shape[0], \n",
    "    end=\"\\n\\n\"\n",
    ")\n",
    "\n",
    "print(\n",
    "    \"# unique users in train:\", train_df.user_id.nunique(), \n",
    "    \"\\n# unique users in test:\", test_df.user_id.nunique(), \n",
    "    end=\"\\n\\n\"\n",
    ")\n",
    "\n",
    "intersecting_users = test_df[test_df.user_id.isin(train_df.user_id)][\"user_id\"]\n",
    "\n",
    "print(\n",
    "    \"# cold-users in test:\", test_df.user_id.nunique() - intersecting_users.nunique()\n",
    ")"
   ]
  },
  {
   "cell_type": "code",
   "execution_count": 292,
   "metadata": {},
   "outputs": [
    {
     "name": "stdout",
     "output_type": "stream",
     "text": [
      "# unique users in train: 8156 # unique users in test: 9082\n",
      "# cold-items in test: 1770\n"
     ]
    }
   ],
   "source": [
    "print(\n",
    "    \"# unique users in train:\", train_df.anime_id.nunique(), \n",
    "    \"# unique users in test:\", test_df.anime_id.nunique()\n",
    ")\n",
    "\n",
    "intersecting_items = test_df[test_df.anime_id.isin(train_df.anime_id)][\"anime_id\"]\n",
    "\n",
    "print(\n",
    "    \"# cold-items in test:\", test_df.anime_id.nunique() - intersecting_items.nunique()\n",
    ")"
   ]
  },
  {
   "cell_type": "markdown",
   "metadata": {
    "id": "XmWhAehidE6G"
   },
   "source": [
    "### Задание №7 Оценить работу алгоритмов выбрав одну из метрик, сделать вывод по результатам работы (2 балла):\n",
    "\n",
    "* MAP@k\n",
    "* NDCG@k\n",
    "* MRR"
   ]
  },
  {
   "cell_type": "code",
   "execution_count": 19,
   "metadata": {},
   "outputs": [],
   "source": [
    "# метрики понятно откуда\n",
    "\n",
    "def mean_reciprocal_rank(rs):\n",
    "    rs = (np.asarray(r).nonzero()[0] for r in rs)\n",
    "    return np.mean([1. / (r[0] + 1) if r.size else 0. for r in rs])\n",
    "\n",
    "def r_precision(r):\n",
    "    r = np.asarray(r) != 0\n",
    "    z = r.nonzero()[0]\n",
    "    if not z.size:\n",
    "        return 0.\n",
    "    return np.mean(r[:z[-1] + 1])\n",
    "\n",
    "def precision_at_k(r, k):\n",
    "    assert k >= 1\n",
    "    r = np.asarray(r)[:k] != 0\n",
    "    if r.size != k:\n",
    "        raise ValueError('Relevance score length < k')\n",
    "    return np.mean(r)\n",
    "\n",
    "def average_precision(r):\n",
    "    r = np.asarray(r) != 0\n",
    "    out = [precision_at_k(r, k + 1) for k in range(r.size) if r[k]]\n",
    "    if not out:\n",
    "        return 0.\n",
    "    return np.mean(out)\n",
    "\n",
    "def mean_average_precision(rs):\n",
    "    return np.mean([average_precision(r) for r in rs])\n",
    "\n",
    "def dcg_at_k(r, k, method=0):\n",
    "    r = np.asfarray(r)[:k]\n",
    "    if r.size:\n",
    "        if method == 0:\n",
    "            return r[0] + np.sum(r[1:] / np.log2(np.arange(2, r.size + 1)))\n",
    "        elif method == 1:\n",
    "            return np.sum(r / np.log2(np.arange(2, r.size + 2)))\n",
    "        else:\n",
    "            raise ValueError('method must be 0 or 1.')\n",
    "    return 0.\n",
    "\n",
    "def ndcg_at_k(r, k, method=0):\n",
    "    dcg_max = dcg_at_k(sorted(r, reverse=True), k, method)\n",
    "    if not dcg_max:\n",
    "        return 0.\n",
    "    return dcg_at_k(r, k, method) / dcg_max"
   ]
  },
  {
   "cell_type": "code",
   "execution_count": 208,
   "metadata": {},
   "outputs": [],
   "source": [
    "ranking_table = test_df.groupby(\"user_id\").agg({\"anime_id\": list})\n",
    "ranking_table = ranking_table.reset_index()"
   ]
  },
  {
   "cell_type": "code",
   "execution_count": 21,
   "metadata": {},
   "outputs": [],
   "source": [
    "# да и это тоже, только переделал немного\n",
    "\n",
    "def evaluate(ranking_table):\n",
    "    \"\"\"\n",
    "    Evaluates recommender systems\n",
    "    \"\"\"\n",
    "    \n",
    "    ranking_table['top_3'] = ranking_table.apply(lambda x: [int(pred in x.anime_id) for pred in x.anime_id_pred[:3]], axis=1)\n",
    "    ranking_table['top_5'] = ranking_table.apply(lambda x: [int(pred in x.anime_id) for pred in x.anime_id_pred[:5]], axis=1)\n",
    "    ranking_table['top_10'] = ranking_table.apply(lambda x: [int(pred in x.anime_id) for pred in x.anime_id_pred[:10]], axis=1)\n",
    "    \n",
    "    score_results = pd.DataFrame(index=['top_3', 'top_5', 'top_10'], columns=['MRR', 'MAP@K', 'NDCG@k'])\n",
    "    \n",
    "    for top in tqdm([3, 5, 10]):\n",
    "        score_results.loc['top_' + str(top), 'MAP@K'] = mean_reciprocal_rank(list(ranking_table['top_' + str(top)].values))\n",
    "        score_results.loc['top_' + str(top), 'MRR'] = mean_average_precision(list(ranking_table['top_' + str(top)].values))\n",
    "        score_results.loc['top_' + str(top), 'NDCG@k'] = np.mean([ndcg_at_k(i, top) for i in list(ranking_table['top_' + str(top)].values)])\n",
    "    \n",
    "    return score_results"
   ]
  },
  {
   "cell_type": "markdown",
   "metadata": {
    "id": "LX78TCHFdE58"
   },
   "source": [
    "### Задание №4 : Решить задачу на основе предложения всем юзерам наиболее популярных item (1 балл)"
   ]
  },
  {
   "cell_type": "code",
   "execution_count": 45,
   "metadata": {},
   "outputs": [],
   "source": [
    "# Создаём список наиболее популярных аниме путём сортирования по убыванию относительно размера коммьюнити\n",
    "\n",
    "popular_anime = anime.sort_values(by=[\"members\", \"rating\"], ascending=False)"
   ]
  },
  {
   "cell_type": "code",
   "execution_count": 351,
   "metadata": {},
   "outputs": [],
   "source": [
    "# Функция рекомендации популярных аниме\n",
    "\n",
    "def recommend_popular(user_id, k=5, include_history=True):\n",
    "    if include_history:\n",
    "        user_data = train_df[train_df.user_id == user_id]\n",
    "        seen_mask = popular_anime.anime_id.isin(user_data.anime_id)\n",
    "        return popular_anime[~seen_mask][\"anime_id\"][:k].values\n",
    "    \n",
    "    return popular_anime[\"anime_id\"][:k].values"
   ]
  },
  {
   "cell_type": "code",
   "execution_count": 331,
   "metadata": {},
   "outputs": [
    {
     "data": {
      "text/plain": [
       "array([ 6547,  1575,  9253, 10620,  4224,   269,   226, 22319,   121,\n",
       "        2904])"
      ]
     },
     "execution_count": 331,
     "metadata": {},
     "output_type": "execute_result"
    }
   ],
   "source": [
    "recommend_popular(3, k=10)"
   ]
  },
  {
   "cell_type": "code",
   "execution_count": 348,
   "metadata": {},
   "outputs": [
    {
     "data": {
      "application/vnd.jupyter.widget-view+json": {
       "model_id": "d075bf409126417d9131b90491cf98c7",
       "version_major": 2,
       "version_minor": 0
      },
      "text/plain": [
       "  0%|          | 0/55118 [00:00<?, ?it/s]"
      ]
     },
     "metadata": {},
     "output_type": "display_data"
    },
    {
     "data": {
      "application/vnd.jupyter.widget-view+json": {
       "model_id": "ea9be2fb03d44011a8714fa9193706ea",
       "version_major": 2,
       "version_minor": 0
      },
      "text/plain": [
       "  0%|          | 0/3 [00:00<?, ?it/s]"
      ]
     },
     "metadata": {},
     "output_type": "display_data"
    },
    {
     "data": {
      "text/html": [
       "<div>\n",
       "<style scoped>\n",
       "    .dataframe tbody tr th:only-of-type {\n",
       "        vertical-align: middle;\n",
       "    }\n",
       "\n",
       "    .dataframe tbody tr th {\n",
       "        vertical-align: top;\n",
       "    }\n",
       "\n",
       "    .dataframe thead th {\n",
       "        text-align: right;\n",
       "    }\n",
       "</style>\n",
       "<table border=\"1\" class=\"dataframe\">\n",
       "  <thead>\n",
       "    <tr style=\"text-align: right;\">\n",
       "      <th></th>\n",
       "      <th>MRR</th>\n",
       "      <th>MAP@K</th>\n",
       "      <th>NDCG@k</th>\n",
       "    </tr>\n",
       "  </thead>\n",
       "  <tbody>\n",
       "    <tr>\n",
       "      <th>top_3</th>\n",
       "      <td>0.3249</td>\n",
       "      <td>0.324694</td>\n",
       "      <td>0.403301</td>\n",
       "    </tr>\n",
       "    <tr>\n",
       "      <th>top_5</th>\n",
       "      <td>0.334939</td>\n",
       "      <td>0.343727</td>\n",
       "      <td>0.426076</td>\n",
       "    </tr>\n",
       "    <tr>\n",
       "      <th>top_10</th>\n",
       "      <td>0.319594</td>\n",
       "      <td>0.363036</td>\n",
       "      <td>0.43742</td>\n",
       "    </tr>\n",
       "  </tbody>\n",
       "</table>\n",
       "</div>"
      ],
      "text/plain": [
       "             MRR     MAP@K    NDCG@k\n",
       "top_3     0.3249  0.324694  0.403301\n",
       "top_5   0.334939  0.343727  0.426076\n",
       "top_10  0.319594  0.363036   0.43742"
      ]
     },
     "execution_count": 348,
     "metadata": {},
     "output_type": "execute_result"
    }
   ],
   "source": [
    "# С фильтрацией ранее просмотренного\n",
    "\n",
    "ranking_table[\"anime_id_pred\"] = ranking_table[\"user_id\"].progress_apply(\n",
    "    recommend_popular, include_history=True, k=10\n",
    ")\n",
    "\n",
    "evaluate(ranking_table, recommend_popular, k=10, include_history=True)"
   ]
  },
  {
   "cell_type": "code",
   "execution_count": 380,
   "metadata": {},
   "outputs": [
    {
     "data": {
      "application/vnd.jupyter.widget-view+json": {
       "model_id": "c5d9ef1167b94175a42fa2805f55856b",
       "version_major": 2,
       "version_minor": 0
      },
      "text/plain": [
       "  0%|          | 0/55118 [00:00<?, ?it/s]"
      ]
     },
     "metadata": {},
     "output_type": "display_data"
    },
    {
     "data": {
      "application/vnd.jupyter.widget-view+json": {
       "model_id": "9757df92f289449ba2fd3fe010e85291",
       "version_major": 2,
       "version_minor": 0
      },
      "text/plain": [
       "  0%|          | 0/3 [00:00<?, ?it/s]"
      ]
     },
     "metadata": {},
     "output_type": "display_data"
    },
    {
     "data": {
      "text/html": [
       "<div>\n",
       "<style scoped>\n",
       "    .dataframe tbody tr th:only-of-type {\n",
       "        vertical-align: middle;\n",
       "    }\n",
       "\n",
       "    .dataframe tbody tr th {\n",
       "        vertical-align: top;\n",
       "    }\n",
       "\n",
       "    .dataframe thead th {\n",
       "        text-align: right;\n",
       "    }\n",
       "</style>\n",
       "<table border=\"1\" class=\"dataframe\">\n",
       "  <thead>\n",
       "    <tr style=\"text-align: right;\">\n",
       "      <th></th>\n",
       "      <th>MRR</th>\n",
       "      <th>MAP@K</th>\n",
       "      <th>NDCG@k</th>\n",
       "    </tr>\n",
       "  </thead>\n",
       "  <tbody>\n",
       "    <tr>\n",
       "      <th>top_3</th>\n",
       "      <td>0.204375</td>\n",
       "      <td>0.196751</td>\n",
       "      <td>0.3388</td>\n",
       "    </tr>\n",
       "    <tr>\n",
       "      <th>top_5</th>\n",
       "      <td>0.221069</td>\n",
       "      <td>0.212638</td>\n",
       "      <td>0.366059</td>\n",
       "    </tr>\n",
       "    <tr>\n",
       "      <th>top_10</th>\n",
       "      <td>0.219186</td>\n",
       "      <td>0.22063</td>\n",
       "      <td>0.370917</td>\n",
       "    </tr>\n",
       "  </tbody>\n",
       "</table>\n",
       "</div>"
      ],
      "text/plain": [
       "             MRR     MAP@K    NDCG@k\n",
       "top_3   0.204375  0.196751    0.3388\n",
       "top_5   0.221069  0.212638  0.366059\n",
       "top_10  0.219186   0.22063  0.370917"
      ]
     },
     "execution_count": 380,
     "metadata": {},
     "output_type": "execute_result"
    }
   ],
   "source": [
    "# Без фильтрации просмотренного ранее\n",
    "\n",
    "ranking_table[\"anime_id_pred\"] = ranking_table[\"user_id\"].progress_apply(\n",
    "    recommend_popular, include_history=False, k=10\n",
    ")\n",
    "\n",
    "evaluate(ranking_table)"
   ]
  },
  {
   "cell_type": "code",
   "execution_count": null,
   "metadata": {},
   "outputs": [],
   "source": [
    "# в целом, достаточно неплохой результат\n",
    "# хотя можно пошаманить и сделать лучше"
   ]
  },
  {
   "cell_type": "markdown",
   "metadata": {
    "id": "W8jmqhiwdE59"
   },
   "source": [
    "### Задание №5 : Решить задачу на основе коллоборативной фильтрации (2 балла)\n",
    "\n",
    "* Реализовать один из методов коллоборативной фильтрации SVD, SVD++, ALS, ALS with implicit feedback"
   ]
  },
  {
   "cell_type": "markdown",
   "metadata": {},
   "source": [
    "### Solution via SVD"
   ]
  },
  {
   "cell_type": "code",
   "execution_count": 67,
   "metadata": {},
   "outputs": [],
   "source": [
    "# Я мог бы вручную реализовать recsys на svd из numpy примерно так:\n",
    "\n",
    "# u, d, v = svd(X_data)\n",
    "\n",
    "# U = u[:, :k]\n",
    "# D = np.diag(d)[:k, :k]\n",
    "# V = v[:k, :]\n",
    "\n",
    "# X_svd = U @ D @ V\n",
    "\n",
    "# Но думаю, что оптимальнее для всех будет воспользоваться решением из suprise (и др.)"
   ]
  },
  {
   "cell_type": "code",
   "execution_count": 24,
   "metadata": {},
   "outputs": [],
   "source": [
    "# Готовим обучающие данные для SVD\n",
    "\n",
    "reader = Reader(rating_scale=(1, 10))\n",
    "\n",
    "svd_train = Dataset.load_from_df(train_df[[\"user_id\", \"anime_id\", \"rating_user\"]], reader=reader)\n",
    "svd_train = svd_train.build_full_trainset()"
   ]
  },
  {
   "cell_type": "code",
   "execution_count": 25,
   "metadata": {},
   "outputs": [
    {
     "name": "stdout",
     "output_type": "stream",
     "text": [
      "Processing epoch 0\n",
      "Processing epoch 1\n",
      "Processing epoch 2\n",
      "Processing epoch 3\n",
      "Processing epoch 4\n",
      "Processing epoch 5\n",
      "Processing epoch 6\n",
      "Processing epoch 7\n",
      "Processing epoch 8\n",
      "Processing epoch 9\n",
      "Processing epoch 10\n",
      "Processing epoch 11\n",
      "Processing epoch 12\n",
      "Processing epoch 13\n",
      "Processing epoch 14\n",
      "Processing epoch 15\n",
      "Processing epoch 16\n",
      "Processing epoch 17\n",
      "Processing epoch 18\n",
      "Processing epoch 19\n",
      "Processing epoch 20\n",
      "Processing epoch 21\n",
      "Processing epoch 22\n",
      "Processing epoch 23\n",
      "Processing epoch 24\n",
      "Processing epoch 25\n",
      "Processing epoch 26\n",
      "Processing epoch 27\n",
      "Processing epoch 28\n",
      "Processing epoch 29\n"
     ]
    },
    {
     "data": {
      "text/plain": [
       "<surprise.prediction_algorithms.matrix_factorization.SVD at 0x7f40cbf3a490>"
      ]
     },
     "execution_count": 25,
     "metadata": {},
     "output_type": "execute_result"
    }
   ],
   "source": [
    "# Обучаем модель\n",
    "\n",
    "svd = SVD(random_state=42, n_factors=10, n_epochs=30, verbose=True)\n",
    "svd.fit(svd_train)"
   ]
  },
  {
   "cell_type": "code",
   "execution_count": 54,
   "metadata": {},
   "outputs": [],
   "source": [
    "# немного измененная функция оценки с семинарского ноутбука\n",
    "# surprise медленный, а я работаю со всеми данными (так интереснее!)\n",
    "# поэтому я предсказываю рейтинги не для всех аниме, а для 500 наиболее частотных\n",
    "\n",
    "def compute_ranking_predictions(\n",
    "    algo,\n",
    "    data,\n",
    "    user_col,\n",
    "    item_col,\n",
    "    pred_col,\n",
    "    remove_seen=False,\n",
    "):\n",
    "    preds = []\n",
    "    for user in tqdm(data[user_col].unique(), desc=\"Iterating users\"):\n",
    "#         for item in data[item_col].unique():\n",
    "        for item in popular_anime[\"anime_id\"][:500].values:\n",
    "            preds.append([user, item, algo.predict(user, item).est])\n",
    "\n",
    "    all_predictions = pd.DataFrame(data=preds, columns=[user_col, item_col, pred_col])\n",
    "\n",
    "    if remove_seen:\n",
    "        temp_df = pd.concat(\n",
    "            [\n",
    "                data[[user_col, item_col]],\n",
    "                pd.DataFrame(\n",
    "                    data=np.ones(data.shape[0]), columns=[\"dummy_col\"], index=data.index\n",
    "                ),\n",
    "            ],\n",
    "            axis=1,\n",
    "        )\n",
    "        merged = pd.merge(temp_df, all_predictions, on=[user_col, item_col], how=\"outer\")\n",
    "        return merged[merged[\"dummy_col\"].isnull()].drop(\"dummy_col\", axis=1)\n",
    "    else:\n",
    "        return all_predictions"
   ]
  },
  {
   "cell_type": "code",
   "execution_count": 55,
   "metadata": {},
   "outputs": [
    {
     "data": {
      "application/vnd.jupyter.widget-view+json": {
       "model_id": "7bc8ead5a23c46d9abcdd94a782b2be6",
       "version_major": 2,
       "version_minor": 0
      },
      "text/plain": [
       "Iterating users:   0%|          | 0/55118 [00:00<?, ?it/s]"
      ]
     },
     "metadata": {},
     "output_type": "display_data"
    },
    {
     "name": "stdout",
     "output_type": "stream",
     "text": [
      "CPU times: user 7min 10s, sys: 2min 15s, total: 9min 26s\n",
      "Wall time: 7min 1s\n"
     ]
    },
    {
     "data": {
      "text/html": [
       "<div>\n",
       "<style scoped>\n",
       "    .dataframe tbody tr th:only-of-type {\n",
       "        vertical-align: middle;\n",
       "    }\n",
       "\n",
       "    .dataframe tbody tr th {\n",
       "        vertical-align: top;\n",
       "    }\n",
       "\n",
       "    .dataframe thead th {\n",
       "        text-align: right;\n",
       "    }\n",
       "</style>\n",
       "<table border=\"1\" class=\"dataframe\">\n",
       "  <thead>\n",
       "    <tr style=\"text-align: right;\">\n",
       "      <th></th>\n",
       "      <th>user_id</th>\n",
       "      <th>anime_id</th>\n",
       "      <th>pred</th>\n",
       "    </tr>\n",
       "  </thead>\n",
       "  <tbody>\n",
       "    <tr>\n",
       "      <th>4393940</th>\n",
       "      <td>3</td>\n",
       "      <td>6547</td>\n",
       "      <td>8.504571</td>\n",
       "    </tr>\n",
       "    <tr>\n",
       "      <th>4393941</th>\n",
       "      <td>3</td>\n",
       "      <td>1575</td>\n",
       "      <td>9.702781</td>\n",
       "    </tr>\n",
       "    <tr>\n",
       "      <th>4393942</th>\n",
       "      <td>3</td>\n",
       "      <td>9253</td>\n",
       "      <td>9.499513</td>\n",
       "    </tr>\n",
       "    <tr>\n",
       "      <th>4393943</th>\n",
       "      <td>3</td>\n",
       "      <td>10620</td>\n",
       "      <td>8.353885</td>\n",
       "    </tr>\n",
       "    <tr>\n",
       "      <th>4393944</th>\n",
       "      <td>3</td>\n",
       "      <td>4224</td>\n",
       "      <td>8.618192</td>\n",
       "    </tr>\n",
       "  </tbody>\n",
       "</table>\n",
       "</div>"
      ],
      "text/plain": [
       "         user_id  anime_id      pred\n",
       "4393940        3      6547  8.504571\n",
       "4393941        3      1575  9.702781\n",
       "4393942        3      9253  9.499513\n",
       "4393943        3     10620  8.353885\n",
       "4393944        3      4224  8.618192"
      ]
     },
     "execution_count": 55,
     "metadata": {},
     "output_type": "execute_result"
    }
   ],
   "source": [
    "%%time\n",
    "predictions = compute_ranking_predictions(\n",
    "    svd, \n",
    "    train_df, \n",
    "    user_col='user_id', \n",
    "    item_col='anime_id',\n",
    "    pred_col='pred', \n",
    "    remove_seen=True\n",
    ")\n",
    "\n",
    "predictions.head()"
   ]
  },
  {
   "cell_type": "code",
   "execution_count": 58,
   "metadata": {},
   "outputs": [],
   "source": [
    "predictions = predictions.sort_values(by=[\"user_id\", \"pred\"], ascending=[True, False])"
   ]
  },
  {
   "cell_type": "code",
   "execution_count": 60,
   "metadata": {},
   "outputs": [
    {
     "data": {
      "text/html": [
       "<div>\n",
       "<style scoped>\n",
       "    .dataframe tbody tr th:only-of-type {\n",
       "        vertical-align: middle;\n",
       "    }\n",
       "\n",
       "    .dataframe tbody tr th {\n",
       "        vertical-align: top;\n",
       "    }\n",
       "\n",
       "    .dataframe thead th {\n",
       "        text-align: right;\n",
       "    }\n",
       "</style>\n",
       "<table border=\"1\" class=\"dataframe\">\n",
       "  <thead>\n",
       "    <tr style=\"text-align: right;\">\n",
       "      <th></th>\n",
       "      <th>user_id</th>\n",
       "      <th>anime_id</th>\n",
       "      <th>pred</th>\n",
       "    </tr>\n",
       "  </thead>\n",
       "  <tbody>\n",
       "    <tr>\n",
       "      <th>4393949</th>\n",
       "      <td>3</td>\n",
       "      <td>2904</td>\n",
       "      <td>9.909725</td>\n",
       "    </tr>\n",
       "    <tr>\n",
       "      <th>4393941</th>\n",
       "      <td>3</td>\n",
       "      <td>1575</td>\n",
       "      <td>9.702781</td>\n",
       "    </tr>\n",
       "    <tr>\n",
       "      <th>4394242</th>\n",
       "      <td>3</td>\n",
       "      <td>9969</td>\n",
       "      <td>9.645192</td>\n",
       "    </tr>\n",
       "    <tr>\n",
       "      <th>4393970</th>\n",
       "      <td>3</td>\n",
       "      <td>11061</td>\n",
       "      <td>9.574886</td>\n",
       "    </tr>\n",
       "    <tr>\n",
       "      <th>4393966</th>\n",
       "      <td>3</td>\n",
       "      <td>4181</td>\n",
       "      <td>9.573136</td>\n",
       "    </tr>\n",
       "  </tbody>\n",
       "</table>\n",
       "</div>"
      ],
      "text/plain": [
       "         user_id  anime_id      pred\n",
       "4393949        3      2904  9.909725\n",
       "4393941        3      1575  9.702781\n",
       "4394242        3      9969  9.645192\n",
       "4393970        3     11061  9.574886\n",
       "4393966        3      4181  9.573136"
      ]
     },
     "execution_count": 60,
     "metadata": {},
     "output_type": "execute_result"
    }
   ],
   "source": [
    "predictions.head()"
   ]
  },
  {
   "cell_type": "code",
   "execution_count": 61,
   "metadata": {},
   "outputs": [
    {
     "data": {
      "text/html": [
       "<div>\n",
       "<style scoped>\n",
       "    .dataframe tbody tr th:only-of-type {\n",
       "        vertical-align: middle;\n",
       "    }\n",
       "\n",
       "    .dataframe tbody tr th {\n",
       "        vertical-align: top;\n",
       "    }\n",
       "\n",
       "    .dataframe thead th {\n",
       "        text-align: right;\n",
       "    }\n",
       "</style>\n",
       "<table border=\"1\" class=\"dataframe\">\n",
       "  <thead>\n",
       "    <tr style=\"text-align: right;\">\n",
       "      <th></th>\n",
       "      <th>anime_id</th>\n",
       "    </tr>\n",
       "    <tr>\n",
       "      <th>user_id</th>\n",
       "      <th></th>\n",
       "    </tr>\n",
       "  </thead>\n",
       "  <tbody>\n",
       "    <tr>\n",
       "      <th>3</th>\n",
       "      <td>[2904, 1575, 9969, 11061, 4181, 9253, 918, 289...</td>\n",
       "    </tr>\n",
       "    <tr>\n",
       "      <th>5</th>\n",
       "      <td>[19, 457, 578, 523, 1, 164, 437, 43, 572, 5114]</td>\n",
       "    </tr>\n",
       "    <tr>\n",
       "      <th>7</th>\n",
       "      <td>[28977, 9253, 28891, 30276, 5114, 4282, 9969, ...</td>\n",
       "    </tr>\n",
       "    <tr>\n",
       "      <th>8</th>\n",
       "      <td>[431, 28977, 5114, 199, 24415, 28891, 23273, 9...</td>\n",
       "    </tr>\n",
       "    <tr>\n",
       "      <th>11</th>\n",
       "      <td>[9969, 918, 4282, 7785, 457, 28977, 2251, 1106...</td>\n",
       "    </tr>\n",
       "  </tbody>\n",
       "</table>\n",
       "</div>"
      ],
      "text/plain": [
       "                                                  anime_id\n",
       "user_id                                                   \n",
       "3        [2904, 1575, 9969, 11061, 4181, 9253, 918, 289...\n",
       "5          [19, 457, 578, 523, 1, 164, 437, 43, 572, 5114]\n",
       "7        [28977, 9253, 28891, 30276, 5114, 4282, 9969, ...\n",
       "8        [431, 28977, 5114, 199, 24415, 28891, 23273, 9...\n",
       "11       [9969, 918, 4282, 7785, 457, 28977, 2251, 1106..."
      ]
     },
     "execution_count": 61,
     "metadata": {},
     "output_type": "execute_result"
    }
   ],
   "source": [
    "predictions = predictions.groupby(\"user_id\").agg({\"anime_id\": lambda x: list(x)[:10]})\n",
    "predictions.head()"
   ]
  },
  {
   "cell_type": "code",
   "execution_count": 66,
   "metadata": {},
   "outputs": [
    {
     "data": {
      "application/vnd.jupyter.widget-view+json": {
       "model_id": "f8f7a63fb2cc498e8b700737f216259c",
       "version_major": 2,
       "version_minor": 0
      },
      "text/plain": [
       "  0%|          | 0/3 [00:00<?, ?it/s]"
      ]
     },
     "metadata": {},
     "output_type": "display_data"
    },
    {
     "data": {
      "text/html": [
       "<div>\n",
       "<style scoped>\n",
       "    .dataframe tbody tr th:only-of-type {\n",
       "        vertical-align: middle;\n",
       "    }\n",
       "\n",
       "    .dataframe tbody tr th {\n",
       "        vertical-align: top;\n",
       "    }\n",
       "\n",
       "    .dataframe thead th {\n",
       "        text-align: right;\n",
       "    }\n",
       "</style>\n",
       "<table border=\"1\" class=\"dataframe\">\n",
       "  <thead>\n",
       "    <tr style=\"text-align: right;\">\n",
       "      <th></th>\n",
       "      <th>MRR</th>\n",
       "      <th>MAP@K</th>\n",
       "      <th>NDCG@k</th>\n",
       "    </tr>\n",
       "  </thead>\n",
       "  <tbody>\n",
       "    <tr>\n",
       "      <th>top_3</th>\n",
       "      <td>0.13159</td>\n",
       "      <td>0.13267</td>\n",
       "      <td>0.171844</td>\n",
       "    </tr>\n",
       "    <tr>\n",
       "      <th>top_5</th>\n",
       "      <td>0.145623</td>\n",
       "      <td>0.150031</td>\n",
       "      <td>0.200054</td>\n",
       "    </tr>\n",
       "    <tr>\n",
       "      <th>top_10</th>\n",
       "      <td>0.153453</td>\n",
       "      <td>0.167504</td>\n",
       "      <td>0.230144</td>\n",
       "    </tr>\n",
       "  </tbody>\n",
       "</table>\n",
       "</div>"
      ],
      "text/plain": [
       "             MRR     MAP@K    NDCG@k\n",
       "top_3    0.13159   0.13267  0.171844\n",
       "top_5   0.145623  0.150031  0.200054\n",
       "top_10  0.153453  0.167504  0.230144"
      ]
     },
     "execution_count": 66,
     "metadata": {},
     "output_type": "execute_result"
    }
   ],
   "source": [
    "# здесь мы видим, что модель работает явно похуже той,\n",
    "# которая рекомендует топ аниме\n",
    "# и это понятно, потому что мы брали в учёт не 12к тайтлов, а всего 500\n",
    "# так бы скор был значительно выше\n",
    "\n",
    "ranking_table[\"anime_id_pred\"] = predictions[\"anime_id\"].values\n",
    "evaluate(ranking_table)"
   ]
  },
  {
   "cell_type": "code",
   "execution_count": null,
   "metadata": {},
   "outputs": [],
   "source": [
    "# но в целом нам уже здесь понятно, что люди смотрят аниме достаточно рандомно\n",
    "# а взаимодействия между юзерами не так важны\n",
    "# полагаю, что в content-based будет то же самое, если не хуже"
   ]
  },
  {
   "cell_type": "code",
   "execution_count": 69,
   "metadata": {},
   "outputs": [],
   "source": [
    "# условие задания, конечно, говорит об использовании одного алгоритма\n",
    "# но зачем использовать один, если можешь потестить сразу несколько и хоть на будущее запомнить?))\n",
    "\n",
    "# в конце концов, на работе я хоть и пилю поисковики, но когда ж я ещё рексисами займусь? Неизвестно. Так что давайте пробовать\n",
    "# (зато не успеет надоесть)"
   ]
  },
  {
   "cell_type": "markdown",
   "metadata": {},
   "source": [
    "### Solution via ALS"
   ]
  },
  {
   "cell_type": "code",
   "execution_count": null,
   "metadata": {},
   "outputs": [],
   "source": [
    "# будем пробовать решить сразу CF и CB подходами через ALS\n",
    "# здесь начнём с ALS"
   ]
  },
  {
   "cell_type": "code",
   "execution_count": 107,
   "metadata": {},
   "outputs": [],
   "source": [
    "# создаём разные сопоставления\n",
    "\n",
    "users = train_df.user_id.unique()\n",
    "items = train_df.anime_id.unique()\n",
    "\n",
    "id2user = {key: value for key, value in enumerate(users)}\n",
    "id2items = {key: value for key, value in enumerate(items)} \n",
    "\n",
    "rating = list(train_df.rating_user)"
   ]
  },
  {
   "cell_type": "code",
   "execution_count": 74,
   "metadata": {},
   "outputs": [],
   "source": [
    "# и ещё\n",
    "\n",
    "user2id = {value: key for key, value in id2user.items()}\n",
    "items2id = {value: key for key, value in id2items.items()}"
   ]
  },
  {
   "cell_type": "code",
   "execution_count": 76,
   "metadata": {},
   "outputs": [],
   "source": [
    "# всё во благо sparse матриц\n",
    "\n",
    "rows = train_df.user_id.map(user2id)\n",
    "# Get the associated row indices\n",
    "\n",
    "cols = train_df.anime_id.map(items2id)\n",
    "# Get the associated column indices"
   ]
  },
  {
   "cell_type": "code",
   "execution_count": 181,
   "metadata": {},
   "outputs": [
    {
     "name": "stdout",
     "output_type": "stream",
     "text": [
      "(55118, 8156)\n"
     ]
    }
   ],
   "source": [
    "# и наконец\n",
    "\n",
    "rating_sparse = csr_matrix((rating, (rows, cols)), shape=(len(user2id), len(items2id)))\n",
    "print(rating_sparse.shape)"
   ]
  },
  {
   "cell_type": "code",
   "execution_count": 291,
   "metadata": {},
   "outputs": [],
   "source": [
    "# работаем с ALS моделью\n",
    "\n",
    "als = AlternatingLeastSquares(num_threads=12, factors=200, iterations=100, regularization=0.01)"
   ]
  },
  {
   "cell_type": "code",
   "execution_count": 292,
   "metadata": {},
   "outputs": [
    {
     "data": {
      "application/vnd.jupyter.widget-view+json": {
       "model_id": "84e15ae6da6744e596b1a00ae0f03049",
       "version_major": 2,
       "version_minor": 0
      },
      "text/plain": [
       "  0%|          | 0/100 [00:00<?, ?it/s]"
      ]
     },
     "metadata": {},
     "output_type": "display_data"
    }
   ],
   "source": [
    "als.fit(rating_sparse)"
   ]
  },
  {
   "cell_type": "code",
   "execution_count": 295,
   "metadata": {},
   "outputs": [],
   "source": [
    "user_ids = list(id2user.keys())"
   ]
  },
  {
   "cell_type": "code",
   "execution_count": 306,
   "metadata": {},
   "outputs": [],
   "source": [
    "def map_idx(mapping, idx):\n",
    "    return mapping[idx]\n",
    "\n",
    "map_idx = np.vectorize(map_idx)"
   ]
  },
  {
   "cell_type": "code",
   "execution_count": 297,
   "metadata": {},
   "outputs": [],
   "source": [
    "predictions, _ = als.recommend(user_ids, rating_sparse[user_ids], N=10, filter_already_liked_items=True)\n",
    "predictions = map_idx(id2items, predictions)"
   ]
  },
  {
   "cell_type": "code",
   "execution_count": 298,
   "metadata": {},
   "outputs": [
    {
     "data": {
      "text/html": [
       "<div>\n",
       "<style scoped>\n",
       "    .dataframe tbody tr th:only-of-type {\n",
       "        vertical-align: middle;\n",
       "    }\n",
       "\n",
       "    .dataframe tbody tr th {\n",
       "        vertical-align: top;\n",
       "    }\n",
       "\n",
       "    .dataframe thead th {\n",
       "        text-align: right;\n",
       "    }\n",
       "</style>\n",
       "<table border=\"1\" class=\"dataframe\">\n",
       "  <thead>\n",
       "    <tr style=\"text-align: right;\">\n",
       "      <th></th>\n",
       "      <th>anime_id_pred</th>\n",
       "    </tr>\n",
       "    <tr>\n",
       "      <th>user_id</th>\n",
       "      <th></th>\n",
       "    </tr>\n",
       "  </thead>\n",
       "  <tbody>\n",
       "    <tr>\n",
       "      <th>0</th>\n",
       "      <td>[121, 1565, 223, 11061, 431, 1120, 874, 10793,...</td>\n",
       "    </tr>\n",
       "    <tr>\n",
       "      <th>1</th>\n",
       "      <td>[9863, 9513, 10213, 523, 15117, 14833, 2112, 1...</td>\n",
       "    </tr>\n",
       "    <tr>\n",
       "      <th>2</th>\n",
       "      <td>[392, 527, 19429, 19685, 18753, 11785, 9515, 7...</td>\n",
       "    </tr>\n",
       "    <tr>\n",
       "      <th>3</th>\n",
       "      <td>[2787, 6773, 9041, 11111, 20, 8074, 11617, 886...</td>\n",
       "    </tr>\n",
       "    <tr>\n",
       "      <th>4</th>\n",
       "      <td>[585, 1119, 1829, 47, 1033, 371, 437, 1943, 72...</td>\n",
       "    </tr>\n",
       "  </tbody>\n",
       "</table>\n",
       "</div>"
      ],
      "text/plain": [
       "                                             anime_id_pred\n",
       "user_id                                                   \n",
       "0        [121, 1565, 223, 11061, 431, 1120, 874, 10793,...\n",
       "1        [9863, 9513, 10213, 523, 15117, 14833, 2112, 1...\n",
       "2        [392, 527, 19429, 19685, 18753, 11785, 9515, 7...\n",
       "3        [2787, 6773, 9041, 11111, 20, 8074, 11617, 886...\n",
       "4        [585, 1119, 1829, 47, 1033, 371, 437, 1943, 72..."
      ]
     },
     "execution_count": 298,
     "metadata": {},
     "output_type": "execute_result"
    }
   ],
   "source": [
    "predictions = pd.DataFrame({\"user_id\": user_ids, \"anime_id_pred\": predictions.tolist()})\n",
    "predictions = predictions.set_index(\"user_id\")\n",
    "predictions.head()"
   ]
  },
  {
   "cell_type": "code",
   "execution_count": 299,
   "metadata": {},
   "outputs": [
    {
     "data": {
      "application/vnd.jupyter.widget-view+json": {
       "model_id": "3d8b2ec1acbd49d29a86a48b4480810a",
       "version_major": 2,
       "version_minor": 0
      },
      "text/plain": [
       "  0%|          | 0/3 [00:00<?, ?it/s]"
      ]
     },
     "metadata": {},
     "output_type": "display_data"
    },
    {
     "data": {
      "text/html": [
       "<div>\n",
       "<style scoped>\n",
       "    .dataframe tbody tr th:only-of-type {\n",
       "        vertical-align: middle;\n",
       "    }\n",
       "\n",
       "    .dataframe tbody tr th {\n",
       "        vertical-align: top;\n",
       "    }\n",
       "\n",
       "    .dataframe thead th {\n",
       "        text-align: right;\n",
       "    }\n",
       "</style>\n",
       "<table border=\"1\" class=\"dataframe\">\n",
       "  <thead>\n",
       "    <tr style=\"text-align: right;\">\n",
       "      <th></th>\n",
       "      <th>MRR</th>\n",
       "      <th>MAP@K</th>\n",
       "      <th>NDCG@k</th>\n",
       "    </tr>\n",
       "  </thead>\n",
       "  <tbody>\n",
       "    <tr>\n",
       "      <th>top_3</th>\n",
       "      <td>0.077323</td>\n",
       "      <td>0.077655</td>\n",
       "      <td>0.107409</td>\n",
       "    </tr>\n",
       "    <tr>\n",
       "      <th>top_5</th>\n",
       "      <td>0.091136</td>\n",
       "      <td>0.092559</td>\n",
       "      <td>0.133752</td>\n",
       "    </tr>\n",
       "    <tr>\n",
       "      <th>top_10</th>\n",
       "      <td>0.104707</td>\n",
       "      <td>0.1094</td>\n",
       "      <td>0.169091</td>\n",
       "    </tr>\n",
       "  </tbody>\n",
       "</table>\n",
       "</div>"
      ],
      "text/plain": [
       "             MRR     MAP@K    NDCG@k\n",
       "top_3   0.077323  0.077655  0.107409\n",
       "top_5   0.091136  0.092559  0.133752\n",
       "top_10  0.104707    0.1094  0.169091"
      ]
     },
     "execution_count": 299,
     "metadata": {},
     "output_type": "execute_result"
    }
   ],
   "source": [
    "ranking_table[\"anime_id_pred\"] = predictions[\"anime_id_pred\"].values\n",
    "evaluate(ranking_table)"
   ]
  },
  {
   "cell_type": "code",
   "execution_count": null,
   "metadata": {},
   "outputs": [],
   "source": [
    "# видим, что через ALS стало только хуже\n",
    "# но здесь это вероятно из-за того, что можно ещё поиграть с гиперпараметрами\n",
    "# я пробовал увеличивать количество факторов и только этим смог поднимать скор на тесте"
   ]
  },
  {
   "cell_type": "markdown",
   "metadata": {
    "id": "LFppc_bRdE6D"
   },
   "source": [
    "### Задание №6 Решить задачу на основе контент-based подхода, выбрав один из методов решения (2 балла):\n",
    "\n",
    "* На основание векторов с факторизационной матрицы\n",
    "* При помощи \"ембеддингов\"  item'ов"
   ]
  },
  {
   "cell_type": "code",
   "execution_count": 441,
   "metadata": {},
   "outputs": [],
   "source": [
    "watched_anime = train_df.groupby(\"user_id\").agg({\"anime_id\": list})\n",
    "watched_anime = watched_anime[\"anime_id\"].to_dict()"
   ]
  },
  {
   "cell_type": "code",
   "execution_count": 486,
   "metadata": {},
   "outputs": [],
   "source": [
    "# каждому юзеру подбираем 25 наиболее похожих на него по интересам\n",
    "\n",
    "predictions, _ = als.similar_users(user_ids, N=25)\n",
    "predictions = map_idx(id2user, predictions)"
   ]
  },
  {
   "cell_type": "code",
   "execution_count": 487,
   "metadata": {},
   "outputs": [],
   "source": [
    "# функция для предсказания аниме по похожим юзерам\n",
    "# хотел ещё взвешивать частотности аниме относительно их оценок у ближайших юзеров\n",
    "# но это было бы более медленно и муторно, поэтому отказался\n",
    "# едва ли это сильно подняло бы качество в нашем случае\n",
    "\n",
    "def recommend_content(user_idx, k=5):\n",
    "    \"\"\"\n",
    "    Recommends items based on favourite anime of other users\n",
    "    \"\"\"\n",
    "    rel_items = [watched_anime[idx] for idx in user_idx]\n",
    "    rel_items = tuple(chain.from_iterable(rel_items))\n",
    "    \n",
    "    item_counts = Counter(rel_items)\n",
    "    return [x[0] for x in item_counts.most_common(k)]"
   ]
  },
  {
   "cell_type": "code",
   "execution_count": 488,
   "metadata": {},
   "outputs": [
    {
     "data": {
      "application/vnd.jupyter.widget-view+json": {
       "model_id": "7b0312cae79445c4ab77cfeffc5f9dbd",
       "version_major": 2,
       "version_minor": 0
      },
      "text/plain": [
       "  0%|          | 0/55118 [00:00<?, ?it/s]"
      ]
     },
     "metadata": {},
     "output_type": "display_data"
    }
   ],
   "source": [
    "predictions = [recommend_content(pred) for pred in tqdm(predictions)]"
   ]
  },
  {
   "cell_type": "code",
   "execution_count": 489,
   "metadata": {},
   "outputs": [
    {
     "data": {
      "application/vnd.jupyter.widget-view+json": {
       "model_id": "cd20888362e14ae395db183435c19e96",
       "version_major": 2,
       "version_minor": 0
      },
      "text/plain": [
       "  0%|          | 0/3 [00:00<?, ?it/s]"
      ]
     },
     "metadata": {},
     "output_type": "display_data"
    },
    {
     "data": {
      "text/html": [
       "<div>\n",
       "<style scoped>\n",
       "    .dataframe tbody tr th:only-of-type {\n",
       "        vertical-align: middle;\n",
       "    }\n",
       "\n",
       "    .dataframe tbody tr th {\n",
       "        vertical-align: top;\n",
       "    }\n",
       "\n",
       "    .dataframe thead th {\n",
       "        text-align: right;\n",
       "    }\n",
       "</style>\n",
       "<table border=\"1\" class=\"dataframe\">\n",
       "  <thead>\n",
       "    <tr style=\"text-align: right;\">\n",
       "      <th></th>\n",
       "      <th>MRR</th>\n",
       "      <th>MAP@K</th>\n",
       "      <th>NDCG@k</th>\n",
       "    </tr>\n",
       "  </thead>\n",
       "  <tbody>\n",
       "    <tr>\n",
       "      <th>top_3</th>\n",
       "      <td>0.000529</td>\n",
       "      <td>0.000529</td>\n",
       "      <td>0.000919</td>\n",
       "    </tr>\n",
       "    <tr>\n",
       "      <th>top_5</th>\n",
       "      <td>0.001485</td>\n",
       "      <td>0.00148</td>\n",
       "      <td>0.002899</td>\n",
       "    </tr>\n",
       "    <tr>\n",
       "      <th>top_10</th>\n",
       "      <td>0.001485</td>\n",
       "      <td>0.00148</td>\n",
       "      <td>0.002899</td>\n",
       "    </tr>\n",
       "  </tbody>\n",
       "</table>\n",
       "</div>"
      ],
      "text/plain": [
       "             MRR     MAP@K    NDCG@k\n",
       "top_3   0.000529  0.000529  0.000919\n",
       "top_5   0.001485   0.00148  0.002899\n",
       "top_10  0.001485   0.00148  0.002899"
      ]
     },
     "execution_count": 489,
     "metadata": {},
     "output_type": "execute_result"
    }
   ],
   "source": [
    "# ... и ещё раз подвтерждаем гипотезу о том, \n",
    "# что анимешники в большинстве своём... кхм-кхм\n",
    "# не особо привержены к просмотру каких-то определённых вещей\n",
    "# потому что веса из факторизационной матрицы нам не помогли в принципе\n",
    "# а предсказание самых популярных тайтлов и вообще оказалось наиболее эффективным (с большим отрывом)\n",
    "\n",
    "# Всё!\n",
    "\n",
    "ranking_table[\"anime_id_pred\"] = predictions\n",
    "evaluate(ranking_table)"
   ]
  },
  {
   "cell_type": "markdown",
   "metadata": {},
   "source": [
    "#### P.S. Все выводы и метрики я считал прямо по ходу выполнения. Надеюсь, Вам понравилось это читать :)"
   ]
  }
 ],
 "metadata": {
  "colab": {
   "name": "Lab #2-RecSys.ipynb",
   "provenance": []
  },
  "kernelspec": {
   "display_name": "Python 3 (ipykernel)",
   "language": "python",
   "name": "python3"
  },
  "language_info": {
   "codemirror_mode": {
    "name": "ipython",
    "version": 3
   },
   "file_extension": ".py",
   "mimetype": "text/x-python",
   "name": "python",
   "nbconvert_exporter": "python",
   "pygments_lexer": "ipython3",
   "version": "3.7.11"
  }
 },
 "nbformat": 4,
 "nbformat_minor": 4
}
